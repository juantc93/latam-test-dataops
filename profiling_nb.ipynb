{
 "cells": [
  {
   "cell_type": "markdown",
   "metadata": {},
   "source": [
    "# Carga Profilers\n",
    "Se cargan los profilers y se crea una magic function que permite escribir y correr las definiciones de las funciones para facilitar las mediciones con los perfiladores cargados en memoria."
   ]
  },
  {
   "cell_type": "code",
   "execution_count": 130,
   "metadata": {},
   "outputs": [
    {
     "name": "stdout",
     "output_type": "stream",
     "text": [
      "The memory_profiler extension is already loaded. To reload it, use:\n",
      "  %reload_ext memory_profiler\n"
     ]
    }
   ],
   "source": [
    "%load_ext memory_profiler"
   ]
  },
  {
   "cell_type": "code",
   "execution_count": 131,
   "metadata": {},
   "outputs": [
    {
     "name": "stdout",
     "output_type": "stream",
     "text": [
      "The line_profiler extension is already loaded. To reload it, use:\n",
      "  %reload_ext line_profiler\n"
     ]
    }
   ],
   "source": [
    "%load_ext line_profiler"
   ]
  },
  {
   "cell_type": "code",
   "execution_count": 132,
   "metadata": {},
   "outputs": [],
   "source": [
    "from IPython.core.magic import register_cell_magic\n",
    "\n",
    "\n",
    "@register_cell_magic\n",
    "def write_and_run(line, cell):\n",
    "    argz = line.split()\n",
    "    file = argz[-1]\n",
    "    mode = 'w'\n",
    "    if len(argz) == 2 and argz[0] == '-a':\n",
    "        mode = 'a'\n",
    "    with open(file, mode) as f:\n",
    "        f.write(cell)\n",
    "    get_ipython().run_cell(cell)"
   ]
  },
  {
   "cell_type": "code",
   "execution_count": 133,
   "metadata": {},
   "outputs": [],
   "source": [
    "%%write_and_run test_func.py\n",
    "def testing_func():\n",
    "    x=[]\n",
    "    for i in range (2):\n",
    "        x+=[i]"
   ]
  },
  {
   "cell_type": "code",
   "execution_count": 134,
   "metadata": {},
   "outputs": [
    {
     "name": "stdout",
     "output_type": "stream",
     "text": [
      "\n"
     ]
    },
    {
     "name": "stdout",
     "output_type": "stream",
     "text": [
      "Filename: c:\\Users\\Juantc93\\DEV\\latam_test\\test_func.py\n",
      "\n",
      "Line #    Mem usage    Increment  Occurrences   Line Contents\n",
      "=============================================================\n",
      "     1    733.9 MiB    733.9 MiB           1   def testing_func():\n",
      "     2    733.9 MiB      0.0 MiB           1       x=[]\n",
      "     3    733.9 MiB      0.0 MiB           3       for i in range (2):\n",
      "     4    733.9 MiB      0.0 MiB           2           x+=[i]"
     ]
    }
   ],
   "source": [
    " \n",
    "%lprun -f testing_func testing_func()\n",
    "from test_func import testing_func\n",
    "%mprun -f testing_func testing_func()"
   ]
  },
  {
   "cell_type": "markdown",
   "metadata": {},
   "source": [
    "## Constants"
   ]
  },
  {
   "cell_type": "code",
   "execution_count": 72,
   "metadata": {},
   "outputs": [],
   "source": [
    "FILE_PATH=\"tweets.json.zip\""
   ]
  },
  {
   "cell_type": "code",
   "execution_count": null,
   "metadata": {},
   "outputs": [],
   "source": []
  },
  {
   "cell_type": "markdown",
   "metadata": {},
   "source": [
    "En general la estrategía de optimización consitió en utilizar librerías de más bajo nivel para la lectura de los datos serializados, haciendo uso de tan solo los estrictamente necesarios para la optimización memoria.\n",
    "\n",
    "En terminos generales el caso base con la librería pandas generó tiempos de ejecución ligeramente inferiores en comparación al manejo con ujson.\n",
    "\n",
    "Desafortunadamente no pude obtener una optimización en memoria para la tarea 1, no obstante presento el caso base.\n",
    "\n",
    "## Twiteros del día"
   ]
  },
  {
   "cell_type": "code",
   "execution_count": 135,
   "metadata": {},
   "outputs": [],
   "source": [
    "%%write_and_run q1_base.py\n",
    "def q1_base(file_path):\n",
    "    import pandas as pd\n",
    "    df = pd.read_json(file_path, lines=True)\\\n",
    "        .assign(date=lambda x: x.date.dt.date,\n",
    "                username=lambda x: x.user.apply(lambda y: y.get(\"username\")))\n",
    "\n",
    "    df_top_ten_date=df[\"date\"]\\\n",
    "        .value_counts()\\\n",
    "        .nlargest(10)\\\n",
    "        .rename(\"twits\")\\\n",
    "        .rename_axis(\"date\")\n",
    "\n",
    "\n",
    "    return df.loc[:,[\"date\",\"username\"]]\\\n",
    "        .set_index(\"date\")\\\n",
    "        .join(df_top_ten_date,how=\"inner\")\\\n",
    "        .set_index(\"username\",append=True)\\\n",
    "        .groupby([\"date\",\"username\",\"twits\"])\\\n",
    "        .agg(twits_user=pd.NamedAgg(column=\"twits\",aggfunc=\"count\"))\\\n",
    "        .assign(\n",
    "            rank=lambda x: x.groupby([\"date\",\"twits\"])[\"twits_user\"].rank(axis='index',method=\"first\",ascending=False))\\\n",
    "        .query(\"rank==1\")\\\n",
    "        .sort_index(level=\"twits\",ascending=False)\\\n",
    "        .reset_index()\\\n",
    "        .loc[:,[\"date\",\"username\"]]\\\n",
    "        .to_records(index=False).tolist()\n",
    "\n"
   ]
  },
  {
   "cell_type": "code",
   "execution_count": 136,
   "metadata": {},
   "outputs": [
    {
     "data": {
      "text/plain": [
       "[(datetime.date(2021, 2, 12), 'RanbirS00614606'),\n",
       " (datetime.date(2021, 2, 13), 'MaanDee08215437'),\n",
       " (datetime.date(2021, 2, 17), 'RaaJVinderkaur'),\n",
       " (datetime.date(2021, 2, 16), 'jot__b'),\n",
       " (datetime.date(2021, 2, 14), 'rebelpacifist'),\n",
       " (datetime.date(2021, 2, 18), 'neetuanjle_nitu'),\n",
       " (datetime.date(2021, 2, 15), 'jot__b'),\n",
       " (datetime.date(2021, 2, 20), 'MangalJ23056160'),\n",
       " (datetime.date(2021, 2, 23), 'Surrypuria'),\n",
       " (datetime.date(2021, 2, 19), 'Preetm91')]"
      ]
     },
     "execution_count": 136,
     "metadata": {},
     "output_type": "execute_result"
    }
   ],
   "source": [
    "q1_base(FILE_PATH)"
   ]
  },
  {
   "cell_type": "code",
   "execution_count": 137,
   "metadata": {},
   "outputs": [
    {
     "name": "stdout",
     "output_type": "stream",
     "text": [
      "Timer unit: 1e-07 s\n",
      "\n",
      "Total time: 8.76166 s\n",
      "File: C:\\Users\\Juantc93\\AppData\\Local\\Temp\\ipykernel_8900\\1763400204.py\n",
      "Function: q1_base at line 1\n",
      "\n",
      "Line #      Hits         Time  Per Hit   % Time  Line Contents\n",
      "==============================================================\n",
      "     1                                           def q1_base(file_path):\n",
      "     2         1         20.0     20.0      0.0      import pandas as pd\n",
      "     3         2   83789360.0    4e+07     95.6      df = pd.read_json(file_path, lines=True)\\\n",
      "     4         1         33.0     33.0      0.0          .assign(date=lambda x: x.date.dt.date,\n",
      "     5         1         11.0     11.0      0.0                  username=lambda x: x.user.apply(lambda y: y.get(\"username\")))\n",
      "     6                                           \n",
      "     7         4     100920.0  25230.0      0.1      df_top_ten_date=df[\"date\"]\\\n",
      "     8                                                   .value_counts()\\\n",
      "     9         1          3.0      3.0      0.0          .nlargest(10)\\\n",
      "    10         1          4.0      4.0      0.0          .rename(\"twits\")\\\n",
      "    11         1          3.0      3.0      0.0          .rename_axis(\"date\")\n",
      "    12                                           \n",
      "    13                                           \n",
      "    14        11    3726100.0 338736.4      4.3      return df.loc[:,[\"date\",\"username\"]]\\\n",
      "    15         1          4.0      4.0      0.0          .set_index(\"date\")\\\n",
      "    16         1         11.0     11.0      0.0          .join(df_top_ten_date,how=\"inner\")\\\n",
      "    17         1          9.0      9.0      0.0          .set_index(\"username\",append=True)\\\n",
      "    18         1         25.0     25.0      0.0          .groupby([\"date\",\"username\",\"twits\"])\\\n",
      "    19         1         44.0     44.0      0.0          .agg(twits_user=pd.NamedAgg(column=\"twits\",aggfunc=\"count\"))\\\n",
      "    20                                                   .assign(\n",
      "    21         1         19.0     19.0      0.0              rank=lambda x: x.groupby([\"date\",\"twits\"])[\"twits_user\"].rank(axis='index',method=\"first\",ascending=False))\\\n",
      "    22         1          6.0      6.0      0.0          .query(\"rank==1\")\\\n",
      "    23         1          4.0      4.0      0.0          .sort_index(level=\"twits\",ascending=False)\\\n",
      "    24                                                   .reset_index()\\\n",
      "    25         1         17.0     17.0      0.0          .loc[:,[\"date\",\"username\"]]\\\n",
      "    26         1          4.0      4.0      0.0          .to_records(index=False).tolist()"
     ]
    }
   ],
   "source": [
    "%lprun -f q1_base q1_base(FILE_PATH)"
   ]
  },
  {
   "cell_type": "code",
   "execution_count": 138,
   "metadata": {},
   "outputs": [
    {
     "name": "stdout",
     "output_type": "stream",
     "text": [
      "\\n\\n --- MEMORY_PROFILING ---\\nn\n",
      "\n"
     ]
    },
    {
     "name": "stdout",
     "output_type": "stream",
     "text": [
      "Filename: c:\\Users\\Juantc93\\DEV\\latam_test\\q1_base.py\n",
      "\n",
      "Line #    Mem usage    Increment  Occurrences   Line Contents\n",
      "=============================================================\n",
      "     1    755.9 MiB    755.9 MiB           1   def q1_base(file_path):\n",
      "     2    755.9 MiB      0.0 MiB           1       import pandas as pd\n",
      "     3   2018.1 MiB   1241.7 MiB           2       df = pd.read_json(file_path, lines=True)\\\n",
      "     4   2035.2 MiB     20.6 MiB           3           .assign(date=lambda x: x.date.dt.date,\n",
      "     5   2035.2 MiB      0.0 MiB      234817                   username=lambda x: x.user.apply(lambda y: y.get(\"username\")))\n",
      "     6                                         \n",
      "     7   2018.1 MiB      0.0 MiB           4       df_top_ten_date=df[\"date\"]\\\n",
      "     8                                                 .value_counts()\\\n",
      "     9   2018.1 MiB      0.0 MiB           1           .nlargest(10)\\\n",
      "    10   2018.1 MiB      0.0 MiB           1           .rename(\"twits\")\\\n",
      "    11   2018.1 MiB      0.0 MiB           1           .rename_axis(\"date\")\n",
      "    12                                         \n",
      "    13                                         \n",
      "    14   2019.9 MiB      1.4 MiB          11       return df.loc[:,[\"date\",\"username\"]]\\\n",
      "    15   2018.1 MiB      0.0 MiB           1           .set_index(\"date\")\\\n",
      "    16   2019.9 MiB      0.0 MiB           1           .join(df_top_ten_date,how=\"inner\")\\\n",
      "    17   2019.2 MiB     -0.7 MiB           1           .set_index(\"username\",append=True)\\\n",
      "    18   2019.3 MiB     -0.6 MiB           1           .groupby([\"date\",\"username\",\"twits\"])\\\n",
      "    19   2019.3 MiB     -0.6 MiB           1           .agg(twits_user=pd.NamedAgg(column=\"twits\",aggfunc=\"count\"))\\\n",
      "    20                                                 .assign(\n",
      "    21   2019.8 MiB     -0.2 MiB           3               rank=lambda x: x.groupby([\"date\",\"twits\"])[\"twits_user\"].rank(axis='index',method=\"first\",ascending=False))\\\n",
      "    22   2019.8 MiB     -0.2 MiB           1           .query(\"rank==1\")\\\n",
      "    23   2019.8 MiB     -0.2 MiB           1           .sort_index(level=\"twits\",ascending=False)\\\n",
      "    24                                                 .reset_index()\\\n",
      "    25   2019.8 MiB     -0.2 MiB           1           .loc[:,[\"date\",\"username\"]]\\\n",
      "    26   2019.8 MiB     -0.2 MiB           1           .to_records(index=False).tolist()"
     ]
    }
   ],
   "source": [
    "\n",
    "from q1_base import q1_base\n",
    "\n",
    "print(r\"\\n\\n --- MEMORY_PROFILING ---\\nn\")\n",
    "%mprun -f q1_base q1_base(FILE_PATH)"
   ]
  },
  {
   "cell_type": "markdown",
   "metadata": {},
   "source": [
    "## Top 10 Emojis"
   ]
  },
  {
   "cell_type": "code",
   "execution_count": 139,
   "metadata": {},
   "outputs": [],
   "source": [
    "%%write_and_run q2_time_opt.py\n",
    "\n",
    "def q2_time_opt(file_path):\n",
    "    \n",
    "    import pandas as pd\n",
    "    import emoji\n",
    "    from collections import Counter\n",
    "    import re\n",
    "    \n",
    "    df = pd.read_json(file_path, lines=True)\\\n",
    "\n",
    "    return Counter(\n",
    "        (\n",
    "            (\n",
    "                i.chars for i in emoji.analyze((\"|\").join(list(df.content.values)))\n",
    "                )\n",
    "            )\n",
    "            )\\\n",
    "            .most_common(10)\n",
    "\n"
   ]
  },
  {
   "cell_type": "code",
   "execution_count": 141,
   "metadata": {},
   "outputs": [
    {
     "data": {
      "text/plain": [
       "[('🙏', 5049),\n",
       " ('😂', 3072),\n",
       " ('🚜', 2972),\n",
       " ('🌾', 2182),\n",
       " ('🇮🇳', 2086),\n",
       " ('🤣', 1668),\n",
       " ('✊', 1651),\n",
       " ('❤️', 1382),\n",
       " ('🙏🏻', 1317),\n",
       " ('💚', 1040)]"
      ]
     },
     "execution_count": 141,
     "metadata": {},
     "output_type": "execute_result"
    }
   ],
   "source": [
    "q2_time_opt(FILE_PATH)"
   ]
  },
  {
   "cell_type": "code",
   "execution_count": 142,
   "metadata": {},
   "outputs": [
    {
     "name": "stdout",
     "output_type": "stream",
     "text": [
      "Timer unit: 1e-07 s\n",
      "\n",
      "Total time: 125.24 s\n",
      "File: C:\\Users\\Juantc93\\AppData\\Local\\Temp\\ipykernel_8900\\764165242.py\n",
      "Function: q2_time_opt at line 1\n",
      "\n",
      "Line #      Hits         Time  Per Hit   % Time  Line Contents\n",
      "==============================================================\n",
      "     1                                           def q2_time_opt(file_path):\n",
      "     2                                               \n",
      "     3         1         24.0     24.0      0.0      import pandas as pd\n",
      "     4         1         18.0     18.0      0.0      import emoji\n",
      "     5         1         88.0     88.0      0.0      from collections import Counter\n",
      "     6         1         15.0     15.0      0.0      import re\n",
      "     7                                               \n",
      "     8         1   86978153.0    9e+07      6.9      df = pd.read_json(file_path, lines=True)\\\n",
      "     9                                           \n",
      "    10         3 1165017399.0    4e+08     93.0      return Counter(\n",
      "    11                                                   (\n",
      "    12         2         52.0     26.0      0.0              (\n",
      "    13         1     403092.0 403092.0      0.0                  i.chars for i in emoji.analyze((\"|\").join(list(df.content.values)))\n",
      "    14                                                           )\n",
      "    15                                                       )\n",
      "    16                                                       )\\\n",
      "    17         1          8.0      8.0      0.0              .most_common(10)"
     ]
    }
   ],
   "source": [
    "%lprun -f q2_time_opt q2_time_opt(FILE_PATH)"
   ]
  },
  {
   "cell_type": "code",
   "execution_count": 143,
   "metadata": {},
   "outputs": [
    {
     "name": "stdout",
     "output_type": "stream",
     "text": [
      "\\n\\n --- MEMORY_PROFILING ---\\nn\n",
      "\n"
     ]
    },
    {
     "name": "stdout",
     "output_type": "stream",
     "text": [
      "Filename: c:\\Users\\Juantc93\\DEV\\latam_test\\q2_time_opt.py\n",
      "\n",
      "Line #    Mem usage    Increment  Occurrences   Line Contents\n",
      "=============================================================\n",
      "     2    821.9 MiB    821.9 MiB           1   def q2_time_opt(file_path):\n",
      "     3                                             \n",
      "     4    821.9 MiB      0.0 MiB           1       import pandas as pd\n",
      "     5    821.9 MiB      0.0 MiB           1       import emoji\n",
      "     6    821.9 MiB      0.0 MiB           1       from collections import Counter\n",
      "     7    821.9 MiB      0.0 MiB           1       import re\n",
      "     8                                             \n",
      "     9   2021.3 MiB   1199.4 MiB           1       df = pd.read_json(file_path, lines=True)\\\n",
      "    10                                         \n",
      "    11   2021.3 MiB    -65.4 MiB           3       return Counter(\n",
      "    12                                                 (\n",
      "    13   2086.7 MiB    -65.4 MiB       85846               (\n",
      "    14   2086.7 MiB     65.4 MiB           1                   i.chars for i in emoji.analyze((\"|\").join(list(df.content.values)))\n",
      "    15                                                         )\n",
      "    16                                                     )\n",
      "    17                                                     )\\\n",
      "    18   2021.3 MiB      0.0 MiB           1               .most_common(10)"
     ]
    }
   ],
   "source": [
    "from q2_time_opt import q2_time_opt\n",
    "\n",
    "print(r\"\\n\\n --- MEMORY_PROFILING ---\\nn\")\n",
    "%mprun -f q2_time_opt q2_time_opt(FILE_PATH)"
   ]
  },
  {
   "cell_type": "code",
   "execution_count": 144,
   "metadata": {},
   "outputs": [],
   "source": [
    "%%write_and_run q2_mem_opt.py\n",
    "\n",
    "def q2_mem_opt(file_path):\n",
    "\n",
    "    import ujson\n",
    "    import emoji\n",
    "    from collections import Counter\n",
    "    import re\n",
    "    import zipfile\n",
    "\n",
    "\n",
    "    with zipfile.ZipFile(file_path, 'r') as f:\n",
    "        with f.open(f.filelist[0]) as g:\n",
    "            content_list=[ujson.loads(line).get(\"content\") for line in g]\n",
    "\n",
    "    return Counter(\n",
    "        (\n",
    "            (\n",
    "                i.chars for i in emoji.analyze((\"|\").join(content_list))\n",
    "                )\n",
    "            )\n",
    "            )\\\n",
    "            .most_common(10)\n"
   ]
  },
  {
   "cell_type": "code",
   "execution_count": 145,
   "metadata": {},
   "outputs": [
    {
     "data": {
      "text/plain": [
       "[('🙏', 5049),\n",
       " ('😂', 3072),\n",
       " ('🚜', 2972),\n",
       " ('🌾', 2182),\n",
       " ('🇮🇳', 2086),\n",
       " ('🤣', 1668),\n",
       " ('✊', 1651),\n",
       " ('❤️', 1382),\n",
       " ('🙏🏻', 1317),\n",
       " ('💚', 1040)]"
      ]
     },
     "execution_count": 145,
     "metadata": {},
     "output_type": "execute_result"
    }
   ],
   "source": [
    "q2_mem_opt(FILE_PATH)"
   ]
  },
  {
   "cell_type": "code",
   "execution_count": 146,
   "metadata": {},
   "outputs": [
    {
     "name": "stdout",
     "output_type": "stream",
     "text": [
      "Timer unit: 1e-07 s\n",
      "\n",
      "Total time: 128.81 s\n",
      "File: C:\\Users\\Juantc93\\AppData\\Local\\Temp\\ipykernel_8900\\4014220813.py\n",
      "Function: q2_mem_opt at line 1\n",
      "\n",
      "Line #      Hits         Time  Per Hit   % Time  Line Contents\n",
      "==============================================================\n",
      "     1                                           def q2_mem_opt(file_path):\n",
      "     2                                           \n",
      "     3         1         22.0     22.0      0.0      import ujson\n",
      "     4         1         16.0     16.0      0.0      import emoji\n",
      "     5         1         66.0     66.0      0.0      from collections import Counter\n",
      "     6         1         10.0     10.0      0.0      import re\n",
      "     7         1         12.0     12.0      0.0      import zipfile\n",
      "     8                                           \n",
      "     9                                           \n",
      "    10         1       8215.0   8215.0      0.0      with zipfile.ZipFile(file_path, 'r') as f:\n",
      "    11         1       4108.0   4108.0      0.0          with f.open(f.filelist[0]) as g:\n",
      "    12         1  101674863.0    1e+08      7.9              content_list=[ujson.loads(line).get(\"content\") for line in g]\n",
      "    13                                           \n",
      "    14         3 1186196995.0    4e+08     92.1      return Counter(\n",
      "    15                                                   (\n",
      "    16         2         36.0     18.0      0.0              (\n",
      "    17         1     216148.0 216148.0      0.0                  i.chars for i in emoji.analyze((\"|\").join(content_list))\n",
      "    18                                                           )\n",
      "    19                                                       )\n",
      "    20                                                       )\\\n",
      "    21         1          8.0      8.0      0.0              .most_common(10)"
     ]
    }
   ],
   "source": [
    "%lprun -f q2_mem_opt q2_mem_opt(FILE_PATH)"
   ]
  },
  {
   "cell_type": "code",
   "execution_count": 105,
   "metadata": {},
   "outputs": [
    {
     "name": "stdout",
     "output_type": "stream",
     "text": [
      "\\n\\n --- MEMORY_PROFILING ---\\nn\n",
      "\n"
     ]
    },
    {
     "name": "stdout",
     "output_type": "stream",
     "text": [
      "Filename: c:\\Users\\Juantc93\\DEV\\latam_test\\q2_mem_opt.py\n",
      "\n",
      "Line #    Mem usage    Increment  Occurrences   Line Contents\n",
      "=============================================================\n",
      "     2    698.4 MiB    698.4 MiB           1   def q2_mem_opt(file_path):\n",
      "     3                                         \n",
      "     4    698.4 MiB      0.0 MiB           1       import ujson\n",
      "     5    698.4 MiB      0.0 MiB           1       import emoji\n",
      "     6    698.4 MiB      0.0 MiB           1       from collections import Counter\n",
      "     7    698.4 MiB      0.0 MiB           1       import re\n",
      "     8    698.4 MiB      0.0 MiB           1       import zipfile\n",
      "     9                                         \n",
      "    10                                         \n",
      "    11    698.4 MiB      0.0 MiB           1       with zipfile.ZipFile(file_path, 'r') as f:\n",
      "    12    698.4 MiB      0.0 MiB           1           with f.open(f.filelist[0]) as g:\n",
      "    13    698.5 MiB      0.1 MiB      117410               content_list=[ujson.loads(line).get(\"content\") for line in g]\n",
      "    14                                         \n",
      "    15    698.5 MiB    -65.4 MiB           3       return Counter(\n",
      "    16                                                 (\n",
      "    17    763.9 MiB    -65.4 MiB       85846               (\n",
      "    18    763.9 MiB     65.4 MiB           1                   i.chars for i in emoji.analyze((\"|\").join(content_list))\n",
      "    19                                                         )\n",
      "    20                                                     )\n",
      "    21                                                     )\\\n",
      "    22    698.5 MiB      0.0 MiB           1               .most_common(10)"
     ]
    }
   ],
   "source": [
    "from q2_mem_opt import q2_mem_opt\n",
    "\n",
    "print(r\"\\n\\n --- MEMORY_PROFILING ---\\nn\")\n",
    "%mprun -f q2_mem_opt q2_mem_opt(FILE_PATH)"
   ]
  },
  {
   "cell_type": "markdown",
   "metadata": {},
   "source": [
    "## Top 10 Influencers"
   ]
  },
  {
   "cell_type": "code",
   "execution_count": 90,
   "metadata": {},
   "outputs": [],
   "source": [
    "%%write_and_run q3_time_opt.py\n",
    "def q3_time_opt(file_path):\n",
    "\n",
    "    import pandas as pd\n",
    "    from collections import Counter\n",
    "    import re\n",
    "\n",
    "    df = pd.read_json(file_path, lines=True)\n",
    "    mention_pattern=re.compile('@(\\w+)')\n",
    "    return Counter([i.upper() for i in re.findall(mention_pattern,(\"|\").join(list(df.content.values)))]).most_common(10)"
   ]
  },
  {
   "cell_type": "code",
   "execution_count": null,
   "metadata": {},
   "outputs": [],
   "source": [
    "q3_time_opt(FILE_PATH)"
   ]
  },
  {
   "cell_type": "code",
   "execution_count": 91,
   "metadata": {},
   "outputs": [
    {
     "name": "stdout",
     "output_type": "stream",
     "text": [
      "Timer unit: 1e-07 s\n",
      "\n",
      "Total time: 8.77143 s\n",
      "File: C:\\Users\\Juantc93\\AppData\\Local\\Temp\\ipykernel_8900\\2262263326.py\n",
      "Function: q3_time_opt at line 1\n",
      "\n",
      "Line #      Hits         Time  Per Hit   % Time  Line Contents\n",
      "==============================================================\n",
      "     1                                           def q3_time_opt(file_path):\n",
      "     2                                           \n",
      "     3         1         22.0     22.0      0.0      import pandas as pd\n",
      "     4         1         87.0     87.0      0.0      from collections import Counter\n",
      "     5         1         15.0     15.0      0.0      import re\n",
      "     6                                           \n",
      "     7         1   85937001.0    9e+07     98.0      df = pd.read_json(file_path, lines=True)\n",
      "     8         1        157.0    157.0      0.0      mention_pattern=re.compile('@(\\w+)')\n",
      "     9         1    1777058.0    2e+06      2.0      return Counter([i.upper() for i in re.findall(mention_pattern,(\"|\").join(list(df.content.values)))]).most_common(10)"
     ]
    }
   ],
   "source": [
    "%lprun -f q3_time_opt q3_time_opt(FILE_PATH)"
   ]
  },
  {
   "cell_type": "code",
   "execution_count": 99,
   "metadata": {},
   "outputs": [
    {
     "name": "stdout",
     "output_type": "stream",
     "text": [
      "\\n\\n --- MEMORY_PROFILING ---\\nn\n",
      "\n"
     ]
    },
    {
     "name": "stdout",
     "output_type": "stream",
     "text": [
      "Filename: c:\\Users\\Juantc93\\DEV\\latam_test\\q3_time_opt.py\n",
      "\n",
      "Line #    Mem usage    Increment  Occurrences   Line Contents\n",
      "=============================================================\n",
      "     1    677.6 MiB    677.6 MiB           1   def q3_time_opt(file_path):\n",
      "     2                                         \n",
      "     3    677.6 MiB      0.0 MiB           1       import pandas as pd\n",
      "     4    677.6 MiB      0.0 MiB           1       from collections import Counter\n",
      "     5    677.6 MiB      0.0 MiB           1       import re\n",
      "     6                                         \n",
      "     7   2000.7 MiB   1323.0 MiB           1       df = pd.read_json(file_path, lines=True)\n",
      "     8   2000.7 MiB      0.0 MiB           1       mention_pattern=re.compile('@(\\w+)')\n",
      "     9   2001.1 MiB      0.4 MiB      104069       return Counter([i.upper() for i in re.findall(mention_pattern,(\"|\").join(list(df.content.values)))]).most_common(10)"
     ]
    }
   ],
   "source": [
    "from q3_time_opt import q3_time_opt\n",
    "\n",
    "print(r\"\\n\\n --- MEMORY_PROFILING ---\\nn\")\n",
    "%mprun -f q3_time_opt q3_time_opt(FILE_PATH)"
   ]
  },
  {
   "cell_type": "code",
   "execution_count": 87,
   "metadata": {},
   "outputs": [],
   "source": [
    "%%write_and_run q3_mem_opt.py\n",
    "\n",
    "def q3_mem_opt(file_path):\n",
    "\n",
    "    import ujson\n",
    "    from collections import Counter\n",
    "    import re\n",
    "    import zipfile\n",
    "\n",
    "\n",
    "    with zipfile.ZipFile(file_path, 'r') as f:\n",
    "        with f.open(f.filelist[0]) as g:\n",
    "            content_list=[ujson.loads(line).get(\"content\") for line in g]\n",
    "        \n",
    "\n",
    "\n",
    "    mention_pattern=re.compile('@(\\w+)')\n",
    "    return Counter([i.upper() for i in re.findall(mention_pattern,(' ').join(content_list))]).most_common(10)"
   ]
  },
  {
   "cell_type": "code",
   "execution_count": null,
   "metadata": {},
   "outputs": [],
   "source": [
    "q3_mem_opt(FILE_PATH)"
   ]
  },
  {
   "cell_type": "code",
   "execution_count": 88,
   "metadata": {},
   "outputs": [
    {
     "name": "stdout",
     "output_type": "stream",
     "text": [
      "Timer unit: 1e-07 s\n",
      "\n",
      "Total time: 9.85909 s\n",
      "File: C:\\Users\\Juantc93\\AppData\\Local\\Temp\\ipykernel_8900\\3792736949.py\n",
      "Function: q3_mem_opt at line 1\n",
      "\n",
      "Line #      Hits         Time  Per Hit   % Time  Line Contents\n",
      "==============================================================\n",
      "     1                                           def q3_mem_opt(file_path):\n",
      "     2                                           \n",
      "     3         1         28.0     28.0      0.0      import ujson\n",
      "     4         1        103.0    103.0      0.0      from collections import Counter\n",
      "     5         1         18.0     18.0      0.0      import re\n",
      "     6         1         16.0     16.0      0.0      import zipfile\n",
      "     7                                           \n",
      "     8                                           \n",
      "     9         1      10809.0  10809.0      0.0      with zipfile.ZipFile(file_path, 'r') as f:\n",
      "    10         1        899.0    899.0      0.0          with f.open(f.filelist[0]) as g:\n",
      "    11         1   97246730.0    1e+08     98.6              content_list=[ujson.loads(line).get(\"content\") for line in g]\n",
      "    12                                                   \n",
      "    13                                           \n",
      "    14                                           \n",
      "    15         1        134.0    134.0      0.0      mention_pattern=re.compile('@(\\w+)')\n",
      "    16         1    1332117.0    1e+06      1.4      return Counter([i.upper() for i in re.findall(mention_pattern,(' ').join(content_list))]).most_common(10)"
     ]
    }
   ],
   "source": [
    "%lprun -f q3_mem_opt q3_mem_opt(FILE_PATH)"
   ]
  },
  {
   "cell_type": "code",
   "execution_count": 89,
   "metadata": {},
   "outputs": [
    {
     "name": "stdout",
     "output_type": "stream",
     "text": [
      "\\n\\n --- MEMORY_PROFILING ---\\nn\n",
      "\n"
     ]
    },
    {
     "name": "stdout",
     "output_type": "stream",
     "text": [
      "Filename: c:\\Users\\Juantc93\\DEV\\latam_test\\q3_mem_opt.py\n",
      "\n",
      "Line #    Mem usage    Increment  Occurrences   Line Contents\n",
      "=============================================================\n",
      "     2    232.1 MiB    232.1 MiB           1   def q3_mem_opt(file_path):\n",
      "     3                                         \n",
      "     4    232.1 MiB      0.0 MiB           1       import ujson\n",
      "     5    232.1 MiB      0.0 MiB           1       from collections import Counter\n",
      "     6    232.1 MiB      0.0 MiB           1       import re\n",
      "     7    232.1 MiB      0.0 MiB           1       import zipfile\n",
      "     8                                         \n",
      "     9                                         \n",
      "    10    232.1 MiB      0.0 MiB           1       with zipfile.ZipFile(file_path, 'r') as f:\n",
      "    11    232.1 MiB      0.0 MiB           1           with f.open(f.filelist[0]) as g:\n",
      "    12    232.1 MiB      0.0 MiB      117410               content_list=[ujson.loads(line).get(\"content\") for line in g]\n",
      "    13                                                 \n",
      "    14                                         \n",
      "    15                                         \n",
      "    16    232.1 MiB      0.0 MiB           1       mention_pattern=re.compile('@(\\w+)')\n",
      "    17    232.1 MiB      0.0 MiB      104069       return Counter([i.upper() for i in re.findall(mention_pattern,(' ').join(content_list))]).most_common(10)"
     ]
    }
   ],
   "source": [
    "from q3_mem_opt import q3_mem_opt\n",
    "\n",
    "print(r\"\\n\\n --- MEMORY_PROFILING ---\\nn\")\n",
    "%mprun -f q3_mem_opt q3_mem_opt(FILE_PATH)"
   ]
  }
 ],
 "metadata": {
  "kernelspec": {
   "display_name": "env",
   "language": "python",
   "name": "python3"
  },
  "language_info": {
   "codemirror_mode": {
    "name": "ipython",
    "version": 3
   },
   "file_extension": ".py",
   "mimetype": "text/x-python",
   "name": "python",
   "nbconvert_exporter": "python",
   "pygments_lexer": "ipython3",
   "version": "3.9.5"
  },
  "orig_nbformat": 4
 },
 "nbformat": 4,
 "nbformat_minor": 2
}
